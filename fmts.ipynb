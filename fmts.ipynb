{
 "cells": [
  {
   "cell_type": "code",
   "execution_count": null,
   "metadata": {
    "collapsed": false
   },
   "outputs": [],
   "source": [
    "# import datetime as dt\n",
    "import itertools as it\n",
    "import os\n",
    "import time\n",
    "\n",
    "import numpy.random as nr\n",
    "from pandas import pandas as pd, DataFrame\n",
    "# from pandas.compat import lmap\n",
    "import matplotlib.pyplot as plt\n",
    "import seaborn as sns\n",
    "\n",
    "%matplotlib inline\n",
    "pd.options.display.notebook_repr_html = False\n",
    "pd.options.display.width = 120\n",
    ";;"
   ]
  },
  {
   "cell_type": "markdown",
   "metadata": {},
   "source": [
    "# Load and set up df\n",
    "\n",
    "tps = DataFrame({'Nu': dforig.apply(pd.Series.nunique), 'Tp': dforig.dtypes})"
   ]
  },
  {
   "cell_type": "markdown",
   "metadata": {},
   "source": [
    "### String columns"
   ]
  },
  {
   "cell_type": "code",
   "execution_count": null,
   "metadata": {
    "collapsed": true
   },
   "outputs": [],
   "source": [
    "# http://archive.ics.uci.edu/ml/datasets/Census-Income+%28KDD%29\n",
    "with open('data/census_col_name_desc_mod.txt', 'r') as f:\n",
    "    csd = f.read().splitlines()\n",
    "\n",
    "\n",
    "dforig = pd.read_csv('data/census-income.data', header=None).iloc[:, :-2]\n",
    "dforig.columns = [l.split()[-1].capitalize() for l in it.takewhile(bool, csd)]"
   ]
  },
  {
   "cell_type": "code",
   "execution_count": null,
   "metadata": {
    "collapsed": false
   },
   "outputs": [],
   "source": [
    "# Get a few of each dtype\n",
    "# ctypes = [c for dtp, gdf in dforig.dtypes.reset_index(drop=0).groupby(0) for c in gdf['index'][:4]]\n",
    "get_dtypes = lambda df, tp='category': df.columns[df.dtypes == tp]\n",
    "ctypes = 'Hhdfmx Pemntvty Grinst Areorgn Marsupwt Divval Caploss'.split()\n",
    "dfs = dforig[ctypes].copy()"
   ]
  },
  {
   "cell_type": "markdown",
   "metadata": {},
   "source": [
    "### Nulls in String cols"
   ]
  },
  {
   "cell_type": "code",
   "execution_count": null,
   "metadata": {
    "collapsed": false
   },
   "outputs": [],
   "source": [
    "def mod_cols(df, f=None, cols=None):\n",
    "    df = df.copy()\n",
    "    if cols is None:\n",
    "        cols = get_dtypes(df, object)\n",
    "        \n",
    "    for c in cols:\n",
    "        df[c] = f(df[c].copy())\n",
    "    return df\n",
    "\n",
    "def add_nulls(s, size=100):\n",
    "    rand_ixs = nr.choice(s.index, size=size, replace=False)\n",
    "    s.loc[rand_ixs] = None\n",
    "    return s\n",
    "\n",
    "\n",
    "nr.seed(0)\n",
    "dfsnulls = mod_cols(dfs, f=add_nulls)"
   ]
  },
  {
   "cell_type": "markdown",
   "metadata": {},
   "source": [
    "### Convert string cols to categorical"
   ]
  },
  {
   "cell_type": "code",
   "execution_count": null,
   "metadata": {
    "collapsed": true
   },
   "outputs": [],
   "source": [
    "tocat = lambda x: x.astype('category')\n",
    "\n",
    "dfc = mod_cols(dfs, f=tocat)\n",
    "dfcnulls = mod_cols(dfsnulls, f=tocat)"
   ]
  },
  {
   "cell_type": "markdown",
   "metadata": {},
   "source": [
    "### Convert string to categorical"
   ]
  },
  {
   "cell_type": "code",
   "execution_count": null,
   "metadata": {
    "collapsed": true
   },
   "outputs": [],
   "source": [
    "from collections import OrderedDict"
   ]
  },
  {
   "cell_type": "code",
   "execution_count": null,
   "metadata": {
    "collapsed": false
   },
   "outputs": [],
   "source": [
    "def summarize_types(df):\n",
    "    return DataFrame(OrderedDict([('Dtypes', df.dtypes), ('Nulls', df.isnull().sum())]))\n"
   ]
  },
  {
   "cell_type": "code",
   "execution_count": null,
   "metadata": {
    "collapsed": false
   },
   "outputs": [],
   "source": [
    "summarize_types(dfs)"
   ]
  },
  {
   "cell_type": "code",
   "execution_count": null,
   "metadata": {
    "collapsed": true
   },
   "outputs": [],
   "source": [
    "DataFrame({'S': summarize_types(dfs)})"
   ]
  },
  {
   "cell_type": "code",
   "execution_count": null,
   "metadata": {
    "collapsed": false
   },
   "outputs": [],
   "source": [
    "summarize_types(dfsnulls)"
   ]
  },
  {
   "cell_type": "code",
   "execution_count": null,
   "metadata": {
    "collapsed": false
   },
   "outputs": [],
   "source": [
    "ix = pd.MultiIndex.from_product([\n",
    "    ['Str', 'Str_null', 'Cat', 'Cat_null'],\n",
    "    ['Dtypes', 'Nulls']])\n",
    "\n",
    "d = DataFrame(pd.concat(map(\n",
    "    summarize_types,\n",
    "    [dfs, dfsnulls, dfc, dfcnulls, ]\n",
    "    ), axis=1))\n",
    "d.columns = ix\n",
    "d"
   ]
  },
  {
   "cell_type": "markdown",
   "metadata": {},
   "source": [
    "## Test formats"
   ]
  },
  {
   "cell_type": "code",
   "execution_count": null,
   "metadata": {
    "collapsed": true
   },
   "outputs": [],
   "source": [
    "import fastparquet\n",
    "import feather"
   ]
  },
  {
   "cell_type": "code",
   "execution_count": null,
   "metadata": {
    "collapsed": true
   },
   "outputs": [],
   "source": [
    "# import myutils as mu\n",
    "class Timer(object):\n",
    "\n",
    "    def __init__(self, start=True):\n",
    "        self.end_time = None\n",
    "        if start:\n",
    "            self.start()\n",
    "        else:\n",
    "            self.st_time = None\n",
    "\n",
    "    def start(self):\n",
    "        self.st_time = time.perf_counter()\n",
    "\n",
    "    def end(self):\n",
    "        self.end_time = time.perf_counter()\n",
    "        return self.time\n",
    "\n",
    "    @property\n",
    "    def time(self):\n",
    "        return self.end_time - self.st_time"
   ]
  },
  {
   "cell_type": "code",
   "execution_count": null,
   "metadata": {
    "collapsed": false
   },
   "outputs": [],
   "source": [
    "dfs[:2]"
   ]
  },
  {
   "cell_type": "code",
   "execution_count": null,
   "metadata": {
    "collapsed": true
   },
   "outputs": [],
   "source": [
    "DataFrame.to_csv(index=None)"
   ]
  },
  {
   "cell_type": "code",
   "execution_count": null,
   "metadata": {
    "collapsed": false
   },
   "outputs": [],
   "source": [
    "pd.read_csv('test/t.csv')[:2]"
   ]
  },
  {
   "cell_type": "code",
   "execution_count": null,
   "metadata": {
    "collapsed": true
   },
   "outputs": [],
   "source": [
    "from functools import partial as part"
   ]
  },
  {
   "cell_type": "code",
   "execution_count": null,
   "metadata": {
    "collapsed": true
   },
   "outputs": [],
   "source": [
    "def bench(fn, df, writer, reader, desc=''):\n",
    "    twrite = Timer(start=1)\n",
    "    writer(df, fn)\n",
    "    twrite.end()\n",
    "    \n",
    "    tread = Timer(start=1)\n",
    "    rdf = reader(fn)\n",
    "    tread.end()\n",
    "    assert df.shape == rdf.shape, '{} != {}'.format(df.shape, rdf.shape)\n",
    "    assert (df.dtypes == rdf.dtypes).all(), '{}\\n\\n != \\n\\n{}'.format(df.dtypes, rdf.dtypes)\n",
    "    \n",
    "    return twrite.time, tread.time, os.path.getsize(fn) / 10**6"
   ]
  },
  {
   "cell_type": "code",
   "execution_count": null,
   "metadata": {
    "collapsed": true
   },
   "outputs": [],
   "source": [
    "def pq_writer(**kw):\n",
    "    def write_pq(df, fn):\n",
    "        fastparquet.write(fn, df, **kw)\n",
    "    return write_pq\n",
    "\n",
    "def pq_reader(categories=None):\n",
    "    def read_pq(fn):\n",
    "        f = fastparquet.ParquetFile(fn)\n",
    "        return f.to_pandas(categories=categories)\n",
    "    return read_pq"
   ]
  },
  {
   "cell_type": "code",
   "execution_count": null,
   "metadata": {
    "collapsed": false
   },
   "outputs": [],
   "source": [
    "def run_tests(df):\n",
    "    res = [\n",
    "        bench('test/t.csv', df, part(DataFrame.to_csv, index=None), pd.read_csv) + ('Csv',),\n",
    "        bench('test/t.fth', df, feather.write_dataframe, feather.read_dataframe) + ('Feather',),\n",
    "        bench('test/t_snap.parq', df, pq_writer(compression='SNAPPY'), pq_reader()) + ('Pq-Snappy',),\n",
    "        bench('test/t_unc.parq', df, pq_writer(compression='UNCOMPRESSED'), pq_reader()) + ('Pq-Uncompressed',),\n",
    "        bench('test/t_gzip.parq', df, pq_writer(compression='GZIP'), pq_reader()) + ('Pq-Gzip',),\n",
    "    ]\n",
    "    return res"
   ]
  },
  {
   "cell_type": "code",
   "execution_count": null,
   "metadata": {
    "collapsed": true
   },
   "outputs": [],
   "source": [
    "res_ = run_tests(dfs)\n",
    "resnull_ = run_tests(dfsnulls)"
   ]
  },
  {
   "cell_type": "code",
   "execution_count": null,
   "metadata": {
    "collapsed": true
   },
   "outputs": [],
   "source": [
    "todf = lambda x: DataFrame(x, columns=['Write_time', 'Read_time', 'Mb', 'Fmt'])\n",
    "\n",
    "res = todf(res_)\n",
    "resnull = todf(resnull_)"
   ]
  },
  {
   "cell_type": "markdown",
   "metadata": {},
   "source": [
    "## Plot"
   ]
  },
  {
   "cell_type": "code",
   "execution_count": null,
   "metadata": {
    "collapsed": false
   },
   "outputs": [],
   "source": [
    "def label(df, x, y, txt, ax):\n",
    "    for i, point in df.iterrows():\n",
    "        ax.text(point[x], point[y], str(point[txt]))\n",
    "\n",
    "def plot_scatter(df, x=None, y=None, lab=None, ax=None):\n",
    "    df.plot.scatter(x=x, y=y, ax=ax)\n",
    "    label(df, x, y, lab, ax or plt.gca())"
   ]
  },
  {
   "cell_type": "code",
   "execution_count": null,
   "metadata": {
    "collapsed": true
   },
   "outputs": [],
   "source": [
    "def plot_times_size(res):\n",
    "    _, [ax1, ax2] = plt.subplots(1, 2, figsize=(10, 5))\n",
    "    plot_scatter(res, x='Write_time', y='Read_time', lab='Fmt', ax=ax1)\n",
    "    plot_scatter(res, x='Read_time', y='Mb', lab='Fmt', ax=ax2)"
   ]
  },
  {
   "cell_type": "code",
   "execution_count": null,
   "metadata": {
    "collapsed": false
   },
   "outputs": [],
   "source": [
    "plot_times_size(res)"
   ]
  },
  {
   "cell_type": "code",
   "execution_count": null,
   "metadata": {
    "collapsed": false
   },
   "outputs": [],
   "source": [
    "plot_times_size(resnull)"
   ]
  },
  {
   "cell_type": "code",
   "execution_count": null,
   "metadata": {
    "collapsed": true
   },
   "outputs": [],
   "source": []
  },
  {
   "cell_type": "code",
   "execution_count": null,
   "metadata": {
    "collapsed": false
   },
   "outputs": [],
   "source": [
    "pq_writer(compression='SNAPPY')(dfs, '/tmp/x.parq')"
   ]
  },
  {
   "cell_type": "code",
   "execution_count": null,
   "metadata": {
    "collapsed": true
   },
   "outputs": [],
   "source": [
    "f = fastparquet.ParquetFile('/tmp/x.parq')"
   ]
  },
  {
   "cell_type": "code",
   "execution_count": null,
   "metadata": {
    "collapsed": true
   },
   "outputs": [],
   "source": [
    "f.to_pandas(categories=categories)"
   ]
  },
  {
   "cell_type": "code",
   "execution_count": null,
   "metadata": {
    "collapsed": false
   },
   "outputs": [],
   "source": [
    "f"
   ]
  },
  {
   "cell_type": "code",
   "execution_count": null,
   "metadata": {
    "collapsed": true
   },
   "outputs": [],
   "source": []
  },
  {
   "cell_type": "code",
   "execution_count": null,
   "metadata": {
    "collapsed": true
   },
   "outputs": [],
   "source": [
    "t = Timer(start=1)"
   ]
  },
  {
   "cell_type": "code",
   "execution_count": null,
   "metadata": {
    "collapsed": false
   },
   "outputs": [],
   "source": [
    "t.end()"
   ]
  },
  {
   "cell_type": "code",
   "execution_count": null,
   "metadata": {
    "collapsed": true
   },
   "outputs": [],
   "source": [
    "%mkdir test"
   ]
  },
  {
   "cell_type": "code",
   "execution_count": null,
   "metadata": {
    "collapsed": false
   },
   "outputs": [],
   "source": [
    "dforig[:2]"
   ]
  }
 ],
 "metadata": {
  "anaconda-cloud": {},
  "kernelspec": {
   "display_name": "Python [default]",
   "language": "python",
   "name": "python3"
  },
  "language_info": {
   "codemirror_mode": {
    "name": "ipython",
    "version": 3
   },
   "file_extension": ".py",
   "mimetype": "text/x-python",
   "name": "python",
   "nbconvert_exporter": "python",
   "pygments_lexer": "ipython3",
   "version": "3.5.2"
  }
 },
 "nbformat": 4,
 "nbformat_minor": 2
}
