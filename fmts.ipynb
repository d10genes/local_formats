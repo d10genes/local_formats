{
 "cells": [
  {
   "cell_type": "markdown",
   "metadata": {},
   "source": [
    "After years of CSV file format domination in the python world, I'm finally seeing more compelling options for local column-oriented data storage. Some give advantages in read speed, file size or both. \n",
    "\n",
    "While I've had good results in these formats for floats and ints, a bottleneck I still have is storing columns with strings. The file format landscape is improving fast, so I won't be surprised if the speed results of the benchmarks here are obsolete before they're published, but this can at least serve as a performance snapshot.\n",
    "\n",
    "[Feather](https://github.com/wesm/feather) is a storage format that aims for speed and interoperability between languages based on the Apache Arrow spec. It shares a creator [Wes McKinney](https://github.com/wesm) with Pandas, and integrates nicely into the python data ecosystem.\n",
    "\n",
    "[Fastparquet](https://github.com/dask/fastparquet) is a recent fork of python's implementation of the parquet file format, with an unsurprising focus on speed. Both parquet and [Bcolz](https://github.com/Blosc/bcolz) offer compression as a feature, potentially speeding up IO and shrinking the required size on disk.\n",
    "\n",
    "\n",
    "## String data\n",
    "A cursory look at these formats shows an obvious performance increase for numerical data, but I quickly found that performance is much more hit-or-miss for data involving strings. My hope here was to get an empirical look at my options when dealing with string data.\n",
    "\n",
    "A difficulty with using strings in Python is that pandas seems to treat them as arbitrary python objects, eliminating any performance gains you can get from numerical datatypes using numpy underneath. A couple of options that you have are to convert the series to a categorical data type, or convert all of the string elements to bytes.\n",
    "\n",
    "In this post I compare the performance of these different file formats on string data encoded as strings, categoricals, and bytes. While I sometimes treat categorical encoding as a silver bullet for performance, since it is represented internally as integers, the benefits only outweigh the overhead when there are just a few unique strings in a column that are repeated many times. To compare the performance of the different formats in both scenarios, I test them on a series with mostly unique strings, and another with just a few repeated strings. \n",
    "\n",
    "The benchmarks below compare pandas' CSV, feather and fastparquet. I couldn't find any setting where Bcolz had reasonable speed on the string data, so threw that out. While the ultimate file size is important, it is secondary to speed for me, so I also ignored compression options like gzip and brotli.\n",
    "\n",
    "I'm only using series with about 200k rows because I don't have all day to wait on the benchmarks to finish."
   ]
  },
  {
   "cell_type": "code",
   "execution_count": null,
   "metadata": {
    "collapsed": false
   },
   "outputs": [],
   "source": [
    "# import datetime as dt\n",
    "import imports; imports.reload(imports); from imports import *\n",
    "import utils; reload(utils); from utils import (\n",
    "    Timer, get_dtypes, mod_cols, add_nulls, get_obj_type,\n",
    "    plot_scatter, part, getsize\n",
    ")\n",
    "%matplotlib inline\n",
    "# ;;"
   ]
  },
  {
   "cell_type": "markdown",
   "metadata": {},
   "source": [
    "# Load and set up df"
   ]
  },
  {
   "cell_type": "markdown",
   "metadata": {},
   "source": [
    "### String columns\n",
    "Here's the base dataframe with a column for unique values (`Unq`) and one for repetitive values (`Low_card`)."
   ]
  },
  {
   "cell_type": "code",
   "execution_count": null,
   "metadata": {
    "collapsed": false
   },
   "outputs": [],
   "source": [
    "nr.seed(0)\n",
    "N = 200000\n",
    "chars = np.array(list(string.ascii_lowercase) + lmap(str, range(10)))\n",
    "nchars = len(chars)\n",
    "rix = nr.randint(0, high=nchars, size=(N, 32))\n",
    "rstrs = [''.join(chars[ix]) for ix in rix]\n",
    "\n",
    "cols = ['Unq', 'Low_card']\n",
    "df = DataFrame(dict(Unq=rstrs, Low_card=nr.choice(rstrs[:100], size=N)))[cols]"
   ]
  },
  {
   "cell_type": "code",
   "execution_count": null,
   "metadata": {
    "collapsed": false
   },
   "outputs": [],
   "source": [
    "df.apply(lambda x: x.nunique())"
   ]
  },
  {
   "cell_type": "code",
   "execution_count": null,
   "metadata": {
    "collapsed": true
   },
   "outputs": [],
   "source": [
    "# from castra import Castra\n",
    "# c = Castra(path='/tmp/test/df.castra', template=df)\n",
    "# c.extend(df)\n",
    "\n",
    "# c"
   ]
  },
  {
   "cell_type": "markdown",
   "metadata": {},
   "source": [
    "!rm -rf /tmp/test/df.castra"
   ]
  },
  {
   "cell_type": "markdown",
   "metadata": {},
   "source": [
    "def castro_writer():\n",
    "    def write_castro(df, fn):\n",
    "        c = Castra(path=fn, template=df)\n",
    "        c.extend(df)\n",
    "    return write_castro\n",
    "\n",
    "\n",
    "def castro_reader(categories=None):\n",
    "    def read_castro(fn):\n",
    "        c = Castra(fn)\n",
    "        return c[:]\n",
    "    return read_castro\n",
    "\n",
    "writer = castro_writer()\n",
    "reader = castro_reader()\n",
    "\n",
    "writer(df, )\n",
    "\n",
    "c = Castra('/tmp/test/df.castra')"
   ]
  },
  {
   "cell_type": "markdown",
   "metadata": {},
   "source": [
    "## Bcolz"
   ]
  },
  {
   "cell_type": "code",
   "execution_count": null,
   "metadata": {
    "collapsed": true
   },
   "outputs": [],
   "source": [
    "import bcolz\n",
    "# from numba import njit\n",
    "\n",
    "# from pandas.util.testing import assert_frame_equal"
   ]
  },
  {
   "cell_type": "markdown",
   "metadata": {},
   "source": [
    "fn = '/tmp/test/df.bc'\n",
    "\n",
    "!rm -r $fn\n",
    "%time ct = write_bcolz(df, fn=fn, asdf=True)\n",
    "\n",
    "!rm -r $fn\n",
    "%time ctl = write_bcolz(df, fn=fn, asdf=False, convert_series=tolist)\n",
    "\n",
    "!rm -r $fn\n",
    "%time ctl = write_bcolz(df, fn=fn, asdf=False, convert_series=to_unicode)"
   ]
  },
  {
   "cell_type": "markdown",
   "metadata": {},
   "source": [
    "%time bu = bcolz.carray(a)\n",
    "%time bu2 = bcolz.carray(df['Unq'].tolist())\n",
    "%time b2 = bcolz.ctable.fromdataframe(df[['Unq']])"
   ]
  },
  {
   "cell_type": "code",
   "execution_count": null,
   "metadata": {
    "collapsed": true
   },
   "outputs": [],
   "source": []
  },
  {
   "cell_type": "code",
   "execution_count": null,
   "metadata": {
    "collapsed": true
   },
   "outputs": [],
   "source": []
  },
  {
   "cell_type": "markdown",
   "metadata": {},
   "source": [
    "### Bytes | categorical | strings & Nulls | Nonulls\n",
    "This function returns a container with combinations of the different string data encodings, and some with nulls randomly inserted, since this can have a big effect on parquet's performance."
   ]
  },
  {
   "cell_type": "code",
   "execution_count": null,
   "metadata": {
    "collapsed": false
   },
   "outputs": [],
   "source": [
    "def gen_diff_types(df):\n",
    "    \"df with str dtype\"\n",
    "    all_dfs = lambda: None\n",
    "    dct = all_dfs.__dict__\n",
    "    dct.update(dict(\n",
    "        dfs=df, \n",
    "        dfsnulls=mod_cols(df, f=add_nulls),\n",
    "        dfb=mod_cols(df, f=lambda x: x.str.encode('utf-8')),\n",
    "        dfc=mod_cols(df, f=tocat),\n",
    "    ))\n",
    "    dct.update(dict(\n",
    "        dfbnulls=mod_cols(all_dfs.dfb, f=add_nulls),\n",
    "        dfcnulls=mod_cols(all_dfs.dfsnulls, f=tocat),\n",
    "    ))\n",
    "    return all_dfs\n",
    "    \n",
    "tocat = lambda x: x.astype('category')\n",
    "nr.seed(0)\n",
    "dflo = gen_diff_types(df[['Low_card']])\n",
    "dfunq = gen_diff_types(df[['Unq']])"
   ]
  },
  {
   "cell_type": "markdown",
   "metadata": {},
   "source": [
    "Here's a description:"
   ]
  },
  {
   "cell_type": "code",
   "execution_count": null,
   "metadata": {
    "collapsed": false
   },
   "outputs": [],
   "source": [
    "def summarize_types(df):\n",
    "    return DataFrame(OrderedDict([('Dtypes', df.dtypes), ('Nulls', df.isnull().sum())]))\n",
    "\n",
    "\n",
    "ix = pd.MultiIndex.from_product([\n",
    "    ['Str', 'Str_null',\n",
    "     'Cat', 'Cat_null',\n",
    "     'Bytes', 'Bytes_null'],\n",
    "    ['Dtypes', 'Nulls']])\n",
    "\n",
    "d = DataFrame(pd.concat(map(\n",
    "    summarize_types,\n",
    "    [dflo.dfs, dflo.dfsnulls,\n",
    "     dflo.dfc, dflo.dfcnulls,\n",
    "     dflo.dfb, dflo.dfbnulls,\n",
    "    ]\n",
    "    ), axis=1))\n",
    "d.columns = ix\n",
    "d"
   ]
  },
  {
   "cell_type": "markdown",
   "metadata": {},
   "source": [
    "## Parquet writer/reader\n",
    "Here are some helper functions to read and write with fastparquet using different options"
   ]
  },
  {
   "cell_type": "code",
   "execution_count": null,
   "metadata": {
    "collapsed": true
   },
   "outputs": [],
   "source": [
    "def max_len(s, nulls=True):\n",
    "    if nulls:\n",
    "        s = s[s == s]\n",
    "    return s.map(len).max()\n",
    "\n",
    "def pq_writer(get_lens=False, **kw):\n",
    "    def write_pq(df, fn):\n",
    "        if get_lens:\n",
    "            lns = {c: max_len(df[c], nulls=True) for c in get_dtypes(df, object)}\n",
    "        else:\n",
    "            lns = None\n",
    "        fastparquet.write(fn, df, fixed_text=lns, **kw)\n",
    "    return write_pq\n",
    "\n",
    "def pq_reader(categories=None):\n",
    "    def read_pq(fn):\n",
    "        f = fastparquet.ParquetFile(fn)\n",
    "        return f.to_pandas(categories=categories)\n",
    "    return read_pq"
   ]
  },
  {
   "cell_type": "markdown",
   "metadata": {},
   "source": [
    "### Benchmarkers\n",
    "And here are some functions to automate the benchmarking, iterating through different inputs and read/write options. I wrapped them all in a sloppy try/except block in a fit of undisciplined laziness."
   ]
  },
  {
   "cell_type": "code",
   "execution_count": null,
   "metadata": {
    "collapsed": true
   },
   "outputs": [],
   "source": [
    "def bench(fn, df, writer, reader, desc=''):\n",
    "    twrite = Timer(start=1)\n",
    "    writer(df, fn)\n",
    "    twrite.end()\n",
    "    \n",
    "    tread = Timer(start=1)\n",
    "    rdf = reader(fn)\n",
    "    tread.end()\n",
    "\n",
    "    assert df.shape == rdf.shape, '{} != {}'.format(df.shape, rdf.shape)\n",
    "    assert (df.dtypes == rdf.dtypes).all(), '{}\\n\\n != \\n\\n{}'.format(df.dtypes, rdf.dtypes)\n",
    "    \n",
    "    return twrite.time, tread.time, getsize(fn) / 10**6\n",
    "\n",
    "def try_bench(*a, **kw):\n",
    "    known_errors = [\n",
    "        'with dtype bytes',\n",
    "        \"'NoneType' object has no attribute 'encode'\",\n",
    "        \"'bytes' object has no attribute 'encode'\",\n",
    "    ]\n",
    "    try:\n",
    "        return bench(*a, **kw)\n",
    "    except Exception as e:\n",
    "        print(e)\n",
    "        print(a[0])\n",
    "        if any(s in str(e) for s in known_errors):\n",
    "            na = float('nan')\n",
    "            return na, na, na\n",
    "        else:\n",
    "            raise(e)"
   ]
  },
  {
   "cell_type": "code",
   "execution_count": null,
   "metadata": {
    "collapsed": false
   },
   "outputs": [],
   "source": [
    "import shutil\n"
   ]
  },
  {
   "cell_type": "code",
   "execution_count": null,
   "metadata": {
    "collapsed": true
   },
   "outputs": [],
   "source": [
    "tolist = lambda x: x.tolist()\n",
    "to_unicode = lambda x: x.values.astype('U')\n",
    "\n",
    "def write_bcolz(df, fn=None, asdf=True, convert_series=None):\n",
    "    if asdf:\n",
    "        ct = bcolz.ctable.fromdataframe(df, rootdir=fn)\n",
    "    else:\n",
    "        transform = convert_series or z.identity\n",
    "        cs = [transform(col) if (col.dtype == 'O') else col for _, col in df.iteritems()]\n",
    "        ct = bcolz.ctable(columns=cs, names=list(df), rootdir=fn)\n",
    "    return ct\n",
    "\n",
    "\n",
    "def read_bcolz(fn):\n",
    "    ct = bcolz.open(fn, mode='r')\n",
    "    return DataFrame(ct[:])\n",
    "\n",
    "mk_bcolz_writer = lambda **kw: part(write_bcolz, **kw)\n",
    "# mk_bcolz_reader = lambda **_: read_bcolz\n",
    "# read_bcolz(fn)[:2]"
   ]
  },
  {
   "cell_type": "code",
   "execution_count": null,
   "metadata": {
    "collapsed": false
   },
   "outputs": [],
   "source": [
    "def stack_results(res):\n",
    "    return pd.concat([\n",
    "        (df.assign(Enc=type)\n",
    "           .assign(Null=null))\n",
    "        for df, type, null in res\n",
    "    ], ignore_index=True)\n",
    "\n",
    "\n",
    "def run_writers(df, asdf=True, cats=None, dirname='/tmp/test'):\n",
    "    obj_tp = get_obj_type(df) if cats is None else 'infer'\n",
    "        \n",
    "    pqr = pq_reader(categories=cats)\n",
    "    csv_dtype = (None if cats is None else\n",
    "        dict(zip(cats, it.repeat('category')))\n",
    "    )\n",
    "    \n",
    "    if path.exists(dirname):\n",
    "        shutil.rmtree(dirname)\n",
    "    os.mkdir(dirname)\n",
    "    dir = lambda x: path.join(dirname, x)\n",
    "    \n",
    "    csv_reader = partial(pd.read_csv, dtype=csv_dtype, index_col=0)\n",
    "    pq_write_enc = pq_writer(compression='SNAPPY', object_encoding=obj_tp)\n",
    "    blosc_df_wrt = mk_bcolz_writer(asdf=True)\n",
    "    blosc_uni_wrt = mk_bcolz_writer(asdf=False, convert_series=to_unicode)\n",
    "    blosc_lst_wrt = mk_bcolz_writer(asdf=False, convert_series=tolist)\n",
    "    res = {\n",
    "        'Csv': try_bench(dir('t.csv'), df, DataFrame.to_csv, csv_reader),\n",
    "#         'Bcolz-df': try_bench(dir('t_df.blsc'), df, blosc_df_wrt, read_bcolz),\n",
    "#         'Bcolz-uni': try_bench(dir('t_uni.blsc'), df, blosc_uni_wrt, read_bcolz),\n",
    "#         'Bcolz-lst': try_bench(dir('t_lst.blsc'), df, blosc_lst_wrt, read_bcolz),\n",
    "#         'Feather': try_bench(dir('t.fth'), df, feather.write_dataframe, feather.read_dataframe),\n",
    "#         'Pq-Snappy': try_bench(dir('t_snap.parq'), df, pq_writer(compression='SNAPPY'), pqr),\n",
    "#         'Pq-Snappy-enc': try_bench(dir('t_snap_utf8.parq'), df, pq_write_enc, pqr),\n",
    "#         'Pq-Snappy-ft': try_bench(dir('t_snap_f.parq'), df, pq_writer(get_lens=True, compression='SNAPPY'), pqr),\n",
    "#         'Pq-Uncompressed': try_bench(dir('t_unc.parq'), df, pq_writer(compression='UNCOMPRESSED'), pqr),\n",
    "    }\n",
    "        # try_bench('/tmp/test/t_gzip.parq', df, pq_writer(compression='GZIP'), pqr\n",
    "        # ) + ('Pq-Gzip',),  # <= slow writes\n",
    "    if asdf:\n",
    "        return todf(res)\n",
    "    else:\n",
    "        return res\n",
    "\n",
    "def todf(x):\n",
    "    d = DataFrame(x).T\n",
    "    d.columns = ['Write_time', 'Read_time', 'Mb']\n",
    "    d.index.name = 'Fmt'\n",
    "    return d.reset_index(drop=0)\n",
    "\n",
    "# todf = lambda x: DataFrame(x, columns=['Write_time', 'Read_time', 'Mb', 'Fmt'])"
   ]
  },
  {
   "cell_type": "code",
   "execution_count": null,
   "metadata": {
    "collapsed": false
   },
   "outputs": [],
   "source": [
    "res = run_writers(df, asdf=True)"
   ]
  },
  {
   "cell_type": "code",
   "execution_count": null,
   "metadata": {
    "collapsed": false
   },
   "outputs": [],
   "source": [
    "res"
   ]
  },
  {
   "cell_type": "code",
   "execution_count": null,
   "metadata": {
    "collapsed": false
   },
   "outputs": [],
   "source": [
    "res"
   ]
  },
  {
   "cell_type": "code",
   "execution_count": null,
   "metadata": {
    "collapsed": true
   },
   "outputs": [],
   "source": [
    "def run_dfs(dfholder):\n",
    "    d = dfholder\n",
    "    global res, resnull, resc, rescnull, resb, resbnull\n",
    "    res = run_writers(d.dfs, asdf=1, cats=None)\n",
    "    print('rnull!')\n",
    "    resnull = run_writers(d.dfsnulls, asdf=1, cats=None)\n",
    "\n",
    "    resc = run_writers(d.dfc, asdf=1, cats=cols)\n",
    "    rescnull = run_writers(d.dfcnulls, asdf=1, cats=cols)\n",
    "\n",
    "    resb = run_writers(d.dfb, asdf=1, cats=None)\n",
    "    resbnull = run_writers(d.dfbnulls, asdf=1, cats=None)\n",
    "    \n",
    "    allres = stack_results([\n",
    "        (res, 'Str', False),\n",
    "        (resnull, 'Str', True),\n",
    "        (resc, 'Cat', False),\n",
    "        (rescnull, 'Cat', True),\n",
    "        (resb, 'Byte', False),\n",
    "        (resbnull, 'Byte', True),\n",
    "    ])\n",
    "    return allres"
   ]
  },
  {
   "cell_type": "markdown",
   "metadata": {},
   "source": [
    "## Actually run benchmarks"
   ]
  },
  {
   "cell_type": "code",
   "execution_count": null,
   "metadata": {
    "collapsed": true
   },
   "outputs": [],
   "source": []
  },
  {
   "cell_type": "code",
   "execution_count": null,
   "metadata": {
    "collapsed": true
   },
   "outputs": [],
   "source": [
    "!rm -rf /tmp/test/\n",
    "%mkdir /tmp/test/"
   ]
  },
  {
   "cell_type": "code",
   "execution_count": null,
   "metadata": {
    "collapsed": false
   },
   "outputs": [],
   "source": [
    "reslo = run_dfs(dflo)"
   ]
  },
  {
   "cell_type": "code",
   "execution_count": null,
   "metadata": {
    "collapsed": false
   },
   "outputs": [],
   "source": [
    "resunq = run_dfs(dfunq)"
   ]
  },
  {
   "cell_type": "markdown",
   "metadata": {},
   "source": [
    "## Plots"
   ]
  },
  {
   "cell_type": "code",
   "execution_count": null,
   "metadata": {
    "collapsed": true
   },
   "outputs": [],
   "source": []
  },
  {
   "cell_type": "code",
   "execution_count": null,
   "metadata": {
    "collapsed": false
   },
   "outputs": [],
   "source": [
    "allres.ix[np.setdiff1d(allres.index, _allres.index)].sort_values(['Fmt'], ascending=True)"
   ]
  },
  {
   "cell_type": "code",
   "execution_count": null,
   "metadata": {
    "collapsed": false
   },
   "outputs": [],
   "source": [
    "comp_rat.plot.scatter(x='Read_time', y='Compression_ratio')"
   ]
  },
  {
   "cell_type": "code",
   "execution_count": null,
   "metadata": {
    "collapsed": false
   },
   "outputs": [],
   "source": [
    "_allres = reslo.dropna(axis=0)\n",
    "g = sns.FacetGrid(_allres, row='Enc', col='Null', aspect=1.2, size=4)\n",
    "g.map(plot_scatter, 'Write_time', 'Read_time', 'Mb', 'Fmt')"
   ]
  },
  {
   "cell_type": "code",
   "execution_count": null,
   "metadata": {
    "collapsed": false
   },
   "outputs": [],
   "source": [
    "reslo.query('Null').sort_values(['Enc', 'Read_time'], ascending=True)"
   ]
  },
  {
   "cell_type": "code",
   "execution_count": null,
   "metadata": {
    "collapsed": false
   },
   "outputs": [],
   "source": [
    "_allres = resunq.dropna(axis=0)\n",
    "g = sns.FacetGrid(_allres, row='Enc', col='Null', aspect=1.2, size=4)\n",
    "g.map(part(plot_scatter, sz_fact=10), 'Write_time', 'Read_time', 'Mb', 'Fmt')"
   ]
  },
  {
   "cell_type": "markdown",
   "metadata": {},
   "source": [
    "- CSV suffers dramatically in speed on categorical encodings\n",
    "- Low cardinality strings\n",
    "    - Everything besides CSV has similar speed characteristics for categoricals\n",
    "    \n",
    "- Feather is really hard to beat in speed, except for unique byte strings with nulls (and [crashes for bytes with no nulls in the column](https://github.com/wesm/feather/issues/283))\n",
    "\n",
    "\n",
    "My personal takeaways:\n",
    "- For columns with lots of redundant strings, convert to categorical if possible and use fastparquet with Snappy\n",
    "- Otherwise, try to use bytes instead of strings and use `fastparquet.write`'s `fixed_text` argument"
   ]
  },
  {
   "cell_type": "code",
   "execution_count": null,
   "metadata": {
    "collapsed": false
   },
   "outputs": [],
   "source": [
    "comp_rat = reslo.assign(Compression_ratio=lambda x: x.Mb.max() / x.Mb).query('Fmt != \"Pq-Gzip\"')\n",
    "sns.stripplot(x=\"Fmt\", y=\"Compression_ratio\", data=comp_rat, jitter=True)\n",
    "plt.xticks(rotation=75);"
   ]
  },
  {
   "cell_type": "code",
   "execution_count": null,
   "metadata": {
    "collapsed": true
   },
   "outputs": [],
   "source": []
  },
  {
   "cell_type": "code",
   "execution_count": null,
   "metadata": {
    "collapsed": false
   },
   "outputs": [],
   "source": [
    "pq_writer(compression='SNAPPY')(dfs, '/tmp/x.parq')"
   ]
  },
  {
   "cell_type": "code",
   "execution_count": null,
   "metadata": {
    "collapsed": true
   },
   "outputs": [],
   "source": [
    "f = fastparquet.ParquetFile('/tmp/x.parq')"
   ]
  },
  {
   "cell_type": "code",
   "execution_count": null,
   "metadata": {
    "collapsed": true
   },
   "outputs": [],
   "source": [
    "f.to_pandas(categories=categories)"
   ]
  },
  {
   "cell_type": "code",
   "execution_count": null,
   "metadata": {
    "collapsed": false
   },
   "outputs": [],
   "source": [
    "f"
   ]
  },
  {
   "cell_type": "code",
   "execution_count": null,
   "metadata": {
    "collapsed": true
   },
   "outputs": [],
   "source": []
  },
  {
   "cell_type": "code",
   "execution_count": null,
   "metadata": {
    "collapsed": true
   },
   "outputs": [],
   "source": [
    "t = Timer(start=1)"
   ]
  },
  {
   "cell_type": "code",
   "execution_count": null,
   "metadata": {
    "collapsed": false
   },
   "outputs": [],
   "source": [
    "t.end()"
   ]
  },
  {
   "cell_type": "code",
   "execution_count": null,
   "metadata": {
    "collapsed": true
   },
   "outputs": [],
   "source": [
    "%mkdir test"
   ]
  },
  {
   "cell_type": "code",
   "execution_count": null,
   "metadata": {
    "collapsed": false
   },
   "outputs": [],
   "source": [
    "dforig[:2]"
   ]
  }
 ],
 "metadata": {
  "anaconda-cloud": {},
  "kernelspec": {
   "display_name": "Python [default]",
   "language": "python",
   "name": "python3"
  },
  "language_info": {
   "codemirror_mode": {
    "name": "ipython",
    "version": 3
   },
   "file_extension": ".py",
   "mimetype": "text/x-python",
   "name": "python",
   "nbconvert_exporter": "python",
   "pygments_lexer": "ipython3",
   "version": "3.5.2"
  }
 },
 "nbformat": 4,
 "nbformat_minor": 2
}
