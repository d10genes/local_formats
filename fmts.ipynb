{
 "cells": [
  {
   "cell_type": "code",
   "execution_count": null,
   "metadata": {
    "collapsed": false
   },
   "outputs": [],
   "source": [
    "# import datetime as dt\n",
    "import itertools as it\n",
    "\n",
    "import numpy.random as nr\n",
    "from pandas import pandas as pd, DataFrame\n",
    "%matplotlib inline\n",
    "pd.options.display.notebook_repr_html = False\n",
    "pd.options.display.width = 120"
   ]
  },
  {
   "cell_type": "markdown",
   "metadata": {},
   "source": [
    "# Load and set up df\n",
    "\n",
    "tps = DataFrame({'Nu': dforig.apply(pd.Series.nunique), 'Tp': dforig.dtypes})"
   ]
  },
  {
   "cell_type": "code",
   "execution_count": null,
   "metadata": {
    "collapsed": true
   },
   "outputs": [],
   "source": [
    "# http://archive.ics.uci.edu/ml/datasets/Census-Income+%28KDD%29\n",
    "with open('data/census_col_name_desc_mod.txt', 'r') as f:\n",
    "    csd = f.read().splitlines()\n",
    "\n",
    "\n",
    "dforig = pd.read_csv('data/census-income.data', header=None).iloc[:, :-2]\n",
    "dforig.columns = [l.split()[-1] for l in it.takewhile(bool, csd)]"
   ]
  },
  {
   "cell_type": "code",
   "execution_count": null,
   "metadata": {
    "collapsed": false
   },
   "outputs": [],
   "source": [
    "# Get a few of each dtype\n",
    "# ctypes = [c for dtp, gdf in dforig.dtypes.reset_index(drop=0).groupby(0) for c in gdf['index'][:4]]\n",
    "ctypes = 'HHDFMX PEMNTVTY GRINST AREORGN MARSUPWT DIVVAL CAPLOSS'.split()\n",
    "dfs = dforig[ctypes].copy()"
   ]
  },
  {
   "cell_type": "code",
   "execution_count": null,
   "metadata": {
    "collapsed": false
   },
   "outputs": [],
   "source": [
    "get_dtypes(dfs, object)"
   ]
  },
  {
   "cell_type": "code",
   "execution_count": null,
   "metadata": {
    "collapsed": true
   },
   "outputs": [],
   "source": [
    "# Nullify some elems from 3 of the object columns\n",
    "nr.seed(0)\n",
    "get_dtypes = lambda df, tp='category': df.columns[df.dtypes == tp]\n",
    "\n",
    "for c in get_dtypes(dfs, object)[:-1]:\n",
    "    rand_ixs = nr.choice(dfs.index, size=100, replace=False)\n",
    "    dfs.loc[rand_ixs, c] = None"
   ]
  },
  {
   "cell_type": "markdown",
   "metadata": {},
   "source": [
    "dfs['HHDFMX'] = dfs['HHDFMX'].astype('category')"
   ]
  },
  {
   "cell_type": "code",
   "execution_count": null,
   "metadata": {
    "collapsed": false
   },
   "outputs": [],
   "source": [
    "DataFrame({'Nulls': dfs.isnull().sum(), 'Dtypes': dfs.dtypes})"
   ]
  },
  {
   "cell_type": "code",
   "execution_count": null,
   "metadata": {
    "collapsed": false
   },
   "outputs": [],
   "source": []
  },
  {
   "cell_type": "code",
   "execution_count": null,
   "metadata": {
    "collapsed": false
   },
   "outputs": [],
   "source": [
    "dforig[:2]"
   ]
  }
 ],
 "metadata": {
  "anaconda-cloud": {},
  "kernelspec": {
   "display_name": "Python [default]",
   "language": "python",
   "name": "python3"
  },
  "language_info": {
   "codemirror_mode": {
    "name": "ipython",
    "version": 3
   },
   "file_extension": ".py",
   "mimetype": "text/x-python",
   "name": "python",
   "nbconvert_exporter": "python",
   "pygments_lexer": "ipython3",
   "version": "3.5.2"
  }
 },
 "nbformat": 4,
 "nbformat_minor": 2
}
