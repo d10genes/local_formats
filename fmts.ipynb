{
 "cells": [
  {
   "cell_type": "markdown",
   "metadata": {},
   "source": [
    "After years of CSV file format domination in the python world, I'm finally seeing more compelling options in the form of local column-oriented data storage. Some give advantages in read speed, file size or both. \n",
    "\n",
    "While I've had good results in these formats for floats and ints, a bottleneck I still have is storing columns with strings. The file format landscape is improving fast, so I won't be surprised if the speed results of the benchmarks here are obsolete before they're published, but this can at least serve as a performance snapshot.\n",
    "\n",
    "[Feather](https://github.com/wesm/feather) is a storage format that aims for speed and interoperability between languages based on the Apache Arrow spec. It shares a creator [Wes McKinney](https://github.com/wesm) with Pandas, and integrates nicely into the python data ecosystem.\n",
    "\n",
    "[Fastparquet](https://github.com/dask/fastparquet) is a recent fork of python's implementation of the parquet file format, with an unsurprising focus on speed. Both parquet and [Bcolz](https://github.com/Blosc/bcolz) offer compression as a feature, potentially speeding up IO and shrinking the required size on disk.\n",
    "\n",
    "\n",
    "## String data\n",
    "A cursory look at these formats shows an obvious performance increase for numerical data, but I quickly found that performance is much more hit-or-miss for data involving strings. My hope here was to get an empirical look at my options when dealing with string data.\n",
    "\n",
    "A difficulty with using strings in Python is that pandas seems to treat them as arbitrary python objects, eliminating any performance gains you can get from numerical datatypes using numpy underneath. A couple of options that you have are to convert the series to a categorical data type, or convert all of the string elements to bytes.\n",
    "\n",
    "In this post I compare the performance of these different file formats on string data encoded as strings, categoricals, and bytes. While I sometimes treat categorical encoding as a silver bullet for performance, since it is represented internally as integers, the benefits only outweigh the overhead when there are just a few unique strings in a column that are repeated many times. To compare the performance of the different formats in both scenarios, I test them on a series with mostly unique strings, and another with just a few repeated strings. \n",
    "\n",
    "The benchmarks below compare pandas' CSV, feather, fastparquet and bcolz. While the ultimate file size is important, it is secondary to speed for me, so I also ignored compression options like gzip and brotli.\n",
    "\n",
    "I'm only using series with about 200k rows because I don't have all day to wait on the benchmarks to finish. Also note that with the combinatorial explosion of possible options, these benchmarks only represent a comparison of the narrow range of options that I would consider."
   ]
  },
  {
   "cell_type": "code",
   "execution_count": null,
   "metadata": {
    "collapsed": false
   },
   "outputs": [],
   "source": [
    "# import datetime as dt\n",
    "import imports; imports.reload(imports); from imports import *\n",
    "import utils; reload(utils); from utils import (\n",
    "    Timer, get_dtypes, mod_cols, add_nulls, get_obj_type,\n",
    "    plot_scatter, part, getsize, INFEASIBLE, nan,\n",
    "    check_args, BEnc, StrEnc, combine_rankings\n",
    ")\n",
    "\n",
    "import sys\n",
    "\n",
    "def fprint(*a, **k):\n",
    "    print(*a, **k)\n",
    "    sys.stdout.flush()\n",
    "    \n",
    "%matplotlib inline\n",
    "# ;;"
   ]
  },
  {
   "cell_type": "code",
   "execution_count": null,
   "metadata": {
    "collapsed": true
   },
   "outputs": [],
   "source": [
    "def null_type(s: pd.Series) -> (bool, type):\n",
    "    n = (~(s == s)).sum() > 0\n",
    "    t1 = s.dtype\n",
    "    if t1 == object:\n",
    "        tp = type(s.iloc[0])\n",
    "        return n, tp\n",
    "    return n, t1"
   ]
  },
  {
   "cell_type": "markdown",
   "metadata": {},
   "source": [
    "# Load and set up df"
   ]
  },
  {
   "cell_type": "markdown",
   "metadata": {},
   "source": [
    "### String columns\n",
    "Here's the base dataframe with a column for unique values (`Unq`) and one for repetitive values (`Low_card`)."
   ]
  },
  {
   "cell_type": "code",
   "execution_count": null,
   "metadata": {
    "collapsed": false
   },
   "outputs": [],
   "source": [
    "nr.seed(0)\n",
    "N = 200000\n",
    "chars = np.array(list(string.ascii_lowercase) + lmap(str, range(10)))\n",
    "nchars = len(chars)\n",
    "rix = nr.randint(0, high=nchars, size=(N, 32))\n",
    "rstrs = [''.join(chars[ix]) for ix in rix]\n",
    "\n",
    "cols = ['Unq', 'Low_card']\n",
    "df = DataFrame(dict(Unq=rstrs, Low_card=nr.choice(rstrs[:100], size=N)))[cols]"
   ]
  },
  {
   "cell_type": "code",
   "execution_count": null,
   "metadata": {
    "collapsed": false
   },
   "outputs": [],
   "source": [
    "df.apply(lambda x: x.nunique())"
   ]
  },
  {
   "cell_type": "markdown",
   "metadata": {},
   "source": [
    "### Bytes | categorical | strings & Nulls | Nonulls\n",
    "This function takes a named Series with string data, and returns a DataFrame whose columns are combinations of the different string data encodings, and some with nulls randomly inserted, since this can have a big effect on parquet's performance."
   ]
  },
  {
   "cell_type": "code",
   "execution_count": null,
   "metadata": {
    "collapsed": true
   },
   "outputs": [],
   "source": [
    "def new_cols(s):\n",
    "    df = s.to_frame()\n",
    "    c = df.columns[0]\n",
    "    df = df.assign(\n",
    "        Str_nls=lambda x: add_nulls(x[c]),\n",
    "        Bytes=lambda x: x[c].str.encode('utf-8'),\n",
    "        Cat=lambda x: tocat(x[c])\n",
    "    ).assign(\n",
    "        Bytes_nls=lambda x: add_nulls(x['Bytes']),\n",
    "        Cat_nls=lambda x: add_nulls(x['Cat']),\n",
    "    )\n",
    "    return df.rename(columns={c: 'Str'})\n",
    "\n",
    "tocat = lambda x: x.astype('category')"
   ]
  },
  {
   "cell_type": "code",
   "execution_count": null,
   "metadata": {
    "collapsed": false
   },
   "outputs": [],
   "source": [
    "df_types = new_cols(df.Unq)\n",
    "DataFrame({'Nulls': df_types.isnull().sum(), 'Dtypes': df_types.dtypes})"
   ]
  },
  {
   "cell_type": "markdown",
   "metadata": {},
   "source": [
    "Here's a summary:"
   ]
  },
  {
   "cell_type": "markdown",
   "metadata": {},
   "source": [
    "## Parquet writer/reader\n",
    "Here are some helper functions to read and write with fastparquet using different options. Specifying the maximum length of a string in the column with `fixed_text` gives a big speed boost, but comes with the cost of finding this length before saving."
   ]
  },
  {
   "cell_type": "code",
   "execution_count": null,
   "metadata": {
    "collapsed": true
   },
   "outputs": [],
   "source": [
    "def max_len(s, nulls=True):\n",
    "    if nulls:\n",
    "        s = s[s == s]\n",
    "    return s.map(len).max()\n",
    "\n",
    "def pq_writer(get_lens=False, **kw):\n",
    "    def write_pq(df, fn):\n",
    "        if get_lens:\n",
    "            lns = {c: max_len(df[c], nulls=True) for c in get_dtypes(df, object)}\n",
    "        else:\n",
    "            lns = None\n",
    "        fastparquet.write(fn, df, fixed_text=lns, **kw)\n",
    "    return write_pq\n",
    "\n",
    "def pq_reader(categories=None):\n",
    "    def read_pq(fn):\n",
    "        f = fastparquet.ParquetFile(fn)\n",
    "        return f.to_pandas(categories=categories)\n",
    "    return read_pq"
   ]
  },
  {
   "cell_type": "markdown",
   "metadata": {},
   "source": [
    "## Bcolz\n",
    "I was originally going to write off bcolz because of some stunningly bad default performance on the data I initially tried. Simply creating a `carray` from a column takes about 20x as long as feather's writing to disk, for example:"
   ]
  },
  {
   "cell_type": "code",
   "execution_count": null,
   "metadata": {
    "collapsed": false
   },
   "outputs": [],
   "source": [
    "%time _ = bcolz.carray(df.Unq)"
   ]
  },
  {
   "cell_type": "code",
   "execution_count": null,
   "metadata": {
    "collapsed": false
   },
   "outputs": [],
   "source": [
    "%time feather.write_dataframe(df, '/tmp/derp.ftr')"
   ]
  },
  {
   "cell_type": "markdown",
   "metadata": {},
   "source": [
    "But after playing around with every idea I could think of, I eventually found out that saving the underlying array after converting its type yields more reasonable results:"
   ]
  },
  {
   "cell_type": "code",
   "execution_count": null,
   "metadata": {
    "collapsed": false
   },
   "outputs": [],
   "source": [
    "%time _ = bcolz.carray(df.Unq.values.astype('U'), mode='r')"
   ]
  },
  {
   "cell_type": "markdown",
   "metadata": {},
   "source": [
    "As does saving a list rather than a Series:"
   ]
  },
  {
   "cell_type": "code",
   "execution_count": null,
   "metadata": {
    "collapsed": false
   },
   "outputs": [],
   "source": [
    "%time _ = bcolz.carray(df.Unq.tolist(), mode='r')"
   ]
  },
  {
   "cell_type": "markdown",
   "metadata": {},
   "source": [
    "But because some of the settings are orders of magnitude slower, though, I had to write a somewhat convoluted `feasible_bcolz` function designate which combinations of settings to avoid."
   ]
  },
  {
   "cell_type": "code",
   "execution_count": null,
   "metadata": {
    "collapsed": false
   },
   "outputs": [],
   "source": [
    "tolist = lambda x: x.tolist()\n",
    "to_unicode = lambda x: x.values.astype('U')\n",
    "mk_bcolz_writer = lambda **kw: part(write_bcolz, **kw)\n",
    "\n",
    "    \n",
    "@check_args\n",
    "def write_bcolz(df, fn=None, method: BEnc=None, str_enc: StrEnc=None,\n",
    "                   null: bool=None):\n",
    "    if not feasible_bcolz(method=method, str_enc=str_enc, null=null):\n",
    "        return INFEASIBLE\n",
    "    if method == BEnc.df:\n",
    "        ct = bcolz.ctable.fromdataframe(df, rootdir=fn)\n",
    "    else:\n",
    "        converter = {BEnc.list: tolist , BEnc.utf8: to_unicode}[method]\n",
    "        cs = [converter(col) if (col.dtype == 'O')\n",
    "              else col for _, col in df.iteritems()]\n",
    "        ct = bcolz.ctable(columns=cs, names=list(df), rootdir=fn)\n",
    "    return ct\n",
    "\n",
    "\n",
    "def read_bcolz(fn):\n",
    "    ct = bcolz.open(fn, mode='r')\n",
    "    return DataFrame(ct[:])\n",
    "\n",
    "\n",
    "@check_args\n",
    "def feasible_bcolz(method: BEnc=None, str_enc: StrEnc=None,\n",
    "                   null: bool=None, **_):\n",
    "    \"Some bcolz settings are unbearably slow.\"   \n",
    "    if method == BEnc.df:\n",
    "        return (str_enc, null) == (StrEnc.str, False)\n",
    "    elif method == BEnc.list:\n",
    "        return (str_enc in {StrEnc.str, StrEnc.byte}) and (not null)\n",
    "    elif method == BEnc.utf8:\n",
    "        return str_enc != StrEnc.cat\n",
    "    raise TypeError(\"Shouldn't reach here\")\n",
    "\n",
    "# feasible_bcolz(method=BEnc.df, str_enc=StrEnc.str, null=False)"
   ]
  },
  {
   "cell_type": "markdown",
   "metadata": {},
   "source": [
    "### Benchmarkers\n",
    "And here are some functions to automate the benchmarking, iterating through different inputs and read/write options. I wrapped them all in a sloppy try/except block in a fit of undisciplined laziness."
   ]
  },
  {
   "cell_type": "code",
   "execution_count": null,
   "metadata": {
    "collapsed": true
   },
   "outputs": [],
   "source": [
    "def bench(fn, df, writer, reader, desc=''):\n",
    "    twrite = Timer(start=1)\n",
    "    res = writer(df, fn)\n",
    "    if res is INFEASIBLE:\n",
    "        # print('INFEASIBLE')\n",
    "        return nan, nan, nan\n",
    "    twrite.end()\n",
    "    # print('Written with', writer)\n",
    "    \n",
    "    tread = Timer(start=1)\n",
    "    rdf = reader(fn)\n",
    "    tread.end()\n",
    "\n",
    "    assert df.shape == rdf.shape, '{} != {}'.format(df.shape, rdf.shape)\n",
    "    # assert (df.dtypes == rdf.dtypes).all(), '{}\\n\\n != \\n\\n{}'.format(df.dtypes, rdf.dtypes)\n",
    "    \n",
    "    return twrite.time, tread.time, getsize(fn) / 10**6\n",
    "\n",
    "def try_bench(*a, **kw):\n",
    "    known_errors = [\n",
    "        'with dtype bytes',\n",
    "        \"'NoneType' object has no attribute 'encode'\",\n",
    "        \"'bytes' object has no attribute 'encode'\",\n",
    "    ]\n",
    "    try:\n",
    "        return bench(*a, **kw)\n",
    "    except Exception as e:\n",
    "        print(e)\n",
    "        print(a[0])\n",
    "        if any(s in str(e) for s in known_errors):\n",
    "            na = float('nan')\n",
    "            return na, na, na\n",
    "        else:\n",
    "            raise(e)"
   ]
  },
  {
   "cell_type": "code",
   "execution_count": null,
   "metadata": {
    "collapsed": true
   },
   "outputs": [],
   "source": [
    "def todf(x):\n",
    "    d = DataFrame(x).T\n",
    "    d.columns = ['Write_time', 'Read_time', 'Mb']\n",
    "    d.index.name = 'Fmt'\n",
    "    return d.reset_index(drop=0)\n",
    "\n",
    "def stack_results(res):\n",
    "    return pd.concat([\n",
    "        (df.assign(Enc=type)\n",
    "           .assign(Null=null))\n",
    "        for df, type, null in res\n",
    "    ], ignore_index=True)"
   ]
  },
  {
   "cell_type": "code",
   "execution_count": null,
   "metadata": {
    "collapsed": false
   },
   "outputs": [],
   "source": [
    "@check_args\n",
    "def run_writers(df, asdf=True, cats=None, dirname='/tmp/test',\n",
    "                str_enc: StrEnc=None, null: bool=False):\n",
    "    \"\"\"For given df (should be single column), run series of\n",
    "    reads/writes\n",
    "    \"\"\"\n",
    "    null_, _ = null_type(df.iloc[:, 0])\n",
    "    assert null_ == null\n",
    "    obj_tp = get_obj_type(df) if cats is None else 'infer'\n",
    "        \n",
    "    pqr = pq_reader(categories=cats)\n",
    "    csv_dtype = (None if cats is None else\n",
    "        dict(zip(cats, it.repeat('category')))\n",
    "    )\n",
    "    \n",
    "    if os.path.exists(dirname):\n",
    "        print('Deleting', dirname, '... ', end='')\n",
    "        shutil.rmtree(dirname)\n",
    "        fprint('Done')\n",
    "        \n",
    "    os.mkdir(dirname)\n",
    "    dir = lambda x: os.path.join(dirname, x)\n",
    "        \n",
    "    csv_reader = partial(pd.read_csv, dtype=csv_dtype, index_col=0)\n",
    "    pq_write_enc = pq_writer(compression='SNAPPY', object_encoding=obj_tp)\n",
    "    pq_write_len = pq_writer(get_lens=True, compression='SNAPPY')\n",
    "    \n",
    "    bc_mkr_mkr = part(mk_bcolz_writer, null=null, str_enc=str_enc)\n",
    "    blosc_df_wrt = bc_mkr_mkr(method=BEnc.df)\n",
    "    blosc_uni_wrt = bc_mkr_mkr(method=BEnc.utf8)\n",
    "    blosc_lst_wrt = bc_mkr_mkr(method=BEnc.list)\n",
    "\n",
    "    res = {\n",
    "        'Csv': try_bench(dir('t.csv'), df, DataFrame.to_csv, csv_reader),\n",
    "        'Bcolz-df': try_bench(dir('t_df.blsc'), df, blosc_df_wrt, read_bcolz),\n",
    "        'Bcolz-uni': try_bench(dir('t_uni.blsc'), df, blosc_uni_wrt, read_bcolz),\n",
    "        'Bcolz-lst': try_bench(dir('t_lst.blsc'), df, blosc_lst_wrt, read_bcolz),\n",
    "        'Feather': try_bench(dir('t.fth'), df, feather.write_dataframe, feather.read_dataframe),\n",
    "        'Pq-Snappy': try_bench(dir('t_snap.parq'), df, pq_writer(compression='SNAPPY'), pqr),\n",
    "        'Pq-Snappy-enc': try_bench(dir('t_snap_utf8.parq'), df, pq_write_enc, pqr),\n",
    "        'Pq-Snappy-ft': try_bench(dir('t_snap_f.parq'), df, pq_write_len, pqr),\n",
    "        'Pq-Uncompressed': try_bench(dir('t_unc.parq'), df, pq_writer(compression='UNCOMPRESSED'), pqr),\n",
    "    }\n",
    "    # try_bench('/tmp/test/t_gzip.parq', df, pq_writer(compression='GZIP'), pqr) + ('Pq-Gzip',),  # <= slow writes\n",
    "    if asdf:\n",
    "        return todf(res)\n",
    "    else:\n",
    "        return res"
   ]
  },
  {
   "cell_type": "code",
   "execution_count": null,
   "metadata": {
    "collapsed": true
   },
   "outputs": [],
   "source": [
    "def run_dfs(base_srs):\n",
    "    \"\"\"For base df with single col, generate new columns\n",
    "    based on original with different ways of encoding\n",
    "    the string type. Run the full battery of\n",
    "    read/write benchmarks on each of these new columns.\n",
    "    \"\"\"\n",
    "    d = new_cols(base_srs)\n",
    "    #global res, resnull, resc, rescnull, resb, resbnull\n",
    "    res = run_writers(d[['Str']], str_enc=StrEnc.str)\n",
    "    resnull = run_writers(d[['Str_nls']], str_enc=StrEnc.str, null=True)\n",
    "\n",
    "    resc = run_writers(d[['Cat']], cats=cols, str_enc=StrEnc.cat)\n",
    "    rescnull = run_writers(d[['Cat_nls']], cats=cols, str_enc=StrEnc.cat, null=True)\n",
    "\n",
    "    resb = run_writers(d[['Bytes']], str_enc=StrEnc.byte)\n",
    "    resbnull = run_writers(d[['Bytes_nls']], str_enc=StrEnc.byte, null=True)\n",
    "    \n",
    "    allres = stack_results([\n",
    "        (res, 'Str', False),\n",
    "        (resnull, 'Str', True),\n",
    "        (resc, 'Cat', False),\n",
    "        (rescnull, 'Cat', True),\n",
    "        (resb, 'Byte', False),\n",
    "        (resbnull, 'Byte', True),\n",
    "    ])\n",
    "    return allres.assign(Ran=lambda x: ~x.Mb.isnull())"
   ]
  },
  {
   "cell_type": "markdown",
   "metadata": {},
   "source": [
    "## Actually run benchmarks"
   ]
  },
  {
   "cell_type": "code",
   "execution_count": null,
   "metadata": {
    "collapsed": false
   },
   "outputs": [],
   "source": [
    "%time reslo = run_dfs(df.Low_card)"
   ]
  },
  {
   "cell_type": "code",
   "execution_count": null,
   "metadata": {
    "collapsed": false
   },
   "outputs": [],
   "source": [
    "%time resunq = run_dfs(df.Unq)"
   ]
  },
  {
   "cell_type": "markdown",
   "metadata": {},
   "source": [
    "## Plots"
   ]
  },
  {
   "cell_type": "code",
   "execution_count": null,
   "metadata": {
    "collapsed": false
   },
   "outputs": [],
   "source": [
    "_allreslo = reslo.dropna(axis=0)\n",
    "g = sns.FacetGrid(_allreslo, row='Enc', col='Null', aspect=1.2, size=4)\n",
    "g.map(plot_scatter, 'Write_time', 'Read_time', 'Mb', 'Fmt')"
   ]
  },
  {
   "cell_type": "code",
   "execution_count": null,
   "metadata": {
    "collapsed": false
   },
   "outputs": [],
   "source": [
    "_allres = resunq.dropna(axis=0)\n",
    "g = sns.FacetGrid(_allres, row='Enc', col='Null', aspect=1.2, size=4)\n",
    "g.map(part(plot_scatter, sz_fact=10), 'Write_time', 'Read_time', 'Mb', 'Fmt')"
   ]
  },
  {
   "cell_type": "markdown",
   "metadata": {},
   "source": [
    "## Ranking and conclusion"
   ]
  },
  {
   "cell_type": "markdown",
   "metadata": {},
   "source": [
    "The following scores the formats based on the time to write and read (but gives twice the weight to read since that's more important to me). For each string encoding setting, it finds the ratio of each format to the one with the best time.\n",
    "\n",
    "As an example, consider we're looking for the total weighted time with Non-null byte encoding for just Feather and CSV. If the weighted time for Feather is 2 seconds and for CSV is 4 seconds, then Feather gets a score of 2/2=1 and CSV gets a score of 4/2=2. I then get the median score, aggregating for each of the encoding scenarios."
   ]
  },
  {
   "cell_type": "code",
   "execution_count": null,
   "metadata": {
    "collapsed": false
   },
   "outputs": [],
   "source": [
    "score = lambda df: 1 * df.Write_time + 2 * df.Read_time\n",
    "\n",
    "\n",
    "def ratio(df):\n",
    "    s = score(df)\n",
    "    return s.div(s.min())\n",
    "\n",
    "\n",
    "def apply_ranking(df):\n",
    "    ranks = pd.concat([ratio(gdf) for k, gdf in\n",
    "                       df.groupby(['Enc', 'Null'], sort=False)]\n",
    "                     ).astype(int)\n",
    "    df['Ratio'] = ranks\n",
    "    return df\n",
    "\n",
    "\n",
    "combine_rankings(reslo, resunq, scoring_func=apply_ranking)"
   ]
  },
  {
   "cell_type": "markdown",
   "metadata": {},
   "source": [
    "With these criteria, Feather appears to have consistently good speed across settings, and only fails when writing a bytes column **without** null values ([#283](https://github.com/wesm/feather/issues/283)). The bcolz Dataframe mode does well on the one case where it doesn't take forever to run, and Parquet with snappy encoding and the length setting seems to do well when there are few unique values. It seems that the others which are robust to all the settings have significantly worse performance, though.\n",
    "\n",
    "The format that will come closest to Feather for me would probably be Bcolz with the unicode setting (applying `.values.astype('U')` to a frame before saving). It suffers a bit with lots of unique values, but works under *all* of the string and bytes conditions, unlike Feather:"
   ]
  },
  {
   "cell_type": "code",
   "execution_count": null,
   "metadata": {
    "collapsed": false
   },
   "outputs": [],
   "source": [
    "combine_rankings(reslo.query('Enc != \"Cat\"'), resunq.query('Enc != \"Cat\"'), scoring_func=apply_ranking)"
   ]
  },
  {
   "cell_type": "markdown",
   "metadata": {},
   "source": [
    "But despite the occasionaly and unpredictable worst case performance scenarios, the options temporary local DataFrame storage have been improving considerably for python, and there are fewer and fewer reasons to resort to CSV these days."
   ]
  }
 ],
 "metadata": {
  "anaconda-cloud": {},
  "kernelspec": {
   "display_name": "Python [default]",
   "language": "python",
   "name": "python3"
  },
  "language_info": {
   "codemirror_mode": {
    "name": "ipython",
    "version": 3
   },
   "file_extension": ".py",
   "mimetype": "text/x-python",
   "name": "python",
   "nbconvert_exporter": "python",
   "pygments_lexer": "ipython3",
   "version": "3.5.2"
  }
 },
 "nbformat": 4,
 "nbformat_minor": 2
}
