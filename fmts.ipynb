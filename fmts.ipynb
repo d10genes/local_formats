{
 "cells": [
  {
   "cell_type": "code",
   "execution_count": null,
   "metadata": {
    "collapsed": false
   },
   "outputs": [],
   "source": [
    "# import datetime as dt\n",
    "from importlib import reload\n",
    "import utils; reload(utils); from utils import Timer\n",
    "import itertools as it\n",
    "import os\n",
    "\n",
    "import numpy.random as nr\n",
    "from pandas import pandas as pd, DataFrame\n",
    "# from pandas.compat import lmap\n",
    "import matplotlib.pyplot as plt\n",
    "import seaborn as sns\n",
    "\n",
    "%matplotlib inline\n",
    "pd.options.display.notebook_repr_html = False\n",
    "pd.options.display.width = 120\n",
    ";;"
   ]
  },
  {
   "cell_type": "markdown",
   "metadata": {},
   "source": [
    "# Load and set up df\n",
    "\n",
    "tps = DataFrame({'Nu': dforig.apply(pd.Series.nunique), 'Tp': dforig.dtypes})"
   ]
  },
  {
   "cell_type": "markdown",
   "metadata": {},
   "source": [
    "### String columns"
   ]
  },
  {
   "cell_type": "code",
   "execution_count": null,
   "metadata": {
    "collapsed": true
   },
   "outputs": [],
   "source": [
    "# http://archive.ics.uci.edu/ml/datasets/Census-Income+%28KDD%29\n",
    "with open('data/census_col_name_desc_mod.txt', 'r') as f:\n",
    "    csd = f.read().splitlines()\n",
    "\n",
    "\n",
    "dforig = pd.read_csv('data/census-income.data', header=None).iloc[:, :-2]\n",
    "dforig.columns = [l.split()[-1].capitalize() for l in it.takewhile(bool, csd)]"
   ]
  },
  {
   "cell_type": "code",
   "execution_count": null,
   "metadata": {
    "collapsed": false
   },
   "outputs": [],
   "source": [
    "# Get a few of each dtype\n",
    "# ctypes = [c for dtp, gdf in dforig.dtypes.reset_index(drop=0).groupby(0) for c in gdf['index'][:4]]\n",
    "get_dtypes = lambda df, tp='category': df.columns[df.dtypes == tp]\n",
    "ctypes = 'Hhdfmx Pemntvty Grinst Areorgn Marsupwt Divval Caploss'.split()\n",
    "dfs = dforig[ctypes].copy()"
   ]
  },
  {
   "cell_type": "markdown",
   "metadata": {},
   "source": [
    "### Nulls in String cols"
   ]
  },
  {
   "cell_type": "code",
   "execution_count": null,
   "metadata": {
    "collapsed": false
   },
   "outputs": [],
   "source": [
    "def mod_cols(df, f=None, cols=None):\n",
    "    df = df.copy()\n",
    "    if cols is None:\n",
    "        cols = get_dtypes(df, object)\n",
    "        \n",
    "    for c in cols:\n",
    "        df[c] = f(df[c].copy())\n",
    "    return df\n",
    "\n",
    "def add_nulls(s, size=100):\n",
    "    rand_ixs = nr.choice(s.index, size=size, replace=False)\n",
    "    s.loc[rand_ixs] = None\n",
    "    return s\n",
    "\n",
    "\n",
    "nr.seed(0)\n",
    "dfsnulls = mod_cols(dfs, f=add_nulls)\n",
    "dfb = mod_cols(dfs, f=lambda x: x.str.encode('utf-8'))\n",
    "dfbnulls = mod_cols(dfb, f=add_nulls)"
   ]
  },
  {
   "cell_type": "code",
   "execution_count": null,
   "metadata": {
    "collapsed": true
   },
   "outputs": [],
   "source": [
    "low_card = dfs[['Hhdfmx']]"
   ]
  },
  {
   "cell_type": "code",
   "execution_count": null,
   "metadata": {
    "collapsed": false
   },
   "outputs": [],
   "source": [
    "f = lambda x: x\n",
    "f"
   ]
  },
  {
   "cell_type": "code",
   "execution_count": null,
   "metadata": {
    "collapsed": false
   },
   "outputs": [],
   "source": [
    "def gen_diff_types(df):\n",
    "    \"df with str dtype\"\n",
    "    dfsnulls = mod_cols(df, f=add_nulls)\n",
    "    dfb = mod_cols(df, f=lambda x: x.str.encode('utf-8'))\n",
    "    dfbnulls = mod_cols(dfb, f=add_nulls)\n",
    "    all_dfs = lambda: None\n",
    "    all_dfs.__dict__.update(dict(\n",
    "        dfs=df, \n",
    "        dfsnulls=dfsnulls,\n",
    "        dfb=dfb,\n",
    "        dfbnulls=dfbnulls,\n",
    "    ))\n",
    "    return all_dfs\n",
    "    \n",
    "gen_diff_types()"
   ]
  },
  {
   "cell_type": "markdown",
   "metadata": {},
   "source": [
    "### Convert string cols to categorical"
   ]
  },
  {
   "cell_type": "code",
   "execution_count": null,
   "metadata": {
    "collapsed": true
   },
   "outputs": [],
   "source": [
    "tocat = lambda x: x.astype('category')\n",
    "\n",
    "dfc = mod_cols(dfs, f=tocat)\n",
    "dfcnulls = mod_cols(dfsnulls, f=tocat)"
   ]
  },
  {
   "cell_type": "markdown",
   "metadata": {},
   "source": [
    "### Convert string to categorical"
   ]
  },
  {
   "cell_type": "code",
   "execution_count": null,
   "metadata": {
    "collapsed": true
   },
   "outputs": [],
   "source": [
    "from collections import OrderedDict"
   ]
  },
  {
   "cell_type": "code",
   "execution_count": null,
   "metadata": {
    "collapsed": false
   },
   "outputs": [],
   "source": [
    "def summarize_types(df):\n",
    "    return DataFrame(OrderedDict([('Dtypes', df.dtypes), ('Nulls', df.isnull().sum())]))\n",
    "\n",
    "\n",
    "ix = pd.MultiIndex.from_product([\n",
    "    ['Str', 'Str_null',\n",
    "     'Cat', 'Cat_null',\n",
    "     'Bytes', 'Bytes_null'],\n",
    "    ['Dtypes', 'Nulls']])\n",
    "\n",
    "d = DataFrame(pd.concat(map(\n",
    "    summarize_types,\n",
    "    [dfs, dfsnulls,\n",
    "     dfc, dfcnulls,\n",
    "     dfb, dfbnulls,\n",
    "    ]\n",
    "    ), axis=1))\n",
    "d.columns = ix\n",
    "d"
   ]
  },
  {
   "cell_type": "markdown",
   "metadata": {},
   "source": [
    "## Bcolz"
   ]
  },
  {
   "cell_type": "markdown",
   "metadata": {},
   "source": [
    "import bcolz\n",
    "    # !rm -r 'data/df.bcolz'\n",
    "%time ct = bcolz.ctable.fromdataframe(dfs[:10000000], rootdir='data/df.bcolz', mode='w')"
   ]
  },
  {
   "cell_type": "markdown",
   "metadata": {},
   "source": [
    "param_perf = {}"
   ]
  },
  {
   "cell_type": "markdown",
   "metadata": {},
   "source": [
    "cparams_ = {'clevel': 5, 'shuffle': True, 'cname': 'lz4'}\n",
    "cparams_.update({\n",
    "    'clevel': 1,\n",
    "    # 'cname': 'snappy',\n",
    "    'shuffle': 0,\n",
    "})\n",
    "cparams = bcolz.cparams(**cparams_)\n",
    "\n",
    "!rm -r 'data/df.bcolz'\n",
    "%time ct = bcolz.carray(dfs.Hhdfmx[:2000], rootdir='data/df.bcolz', cparams=cparams)\n",
    "param_perf[frozenset(cparams_.items())] = ct.nbytes / ct.cbytes\n",
    "ct\n",
    "- ================================================================\n",
    "def merge(d1, d2):\n",
    "    d = d1.copy()\n",
    "    d.update(d2)\n",
    "    return d\n",
    "\n",
    "DataFrame([merge(dict(fs), {'Ratio': rat}) for fs, rat in param_perf.items()])"
   ]
  },
  {
   "cell_type": "markdown",
   "metadata": {},
   "source": [
    "## Test formats"
   ]
  },
  {
   "cell_type": "code",
   "execution_count": null,
   "metadata": {
    "collapsed": true
   },
   "outputs": [],
   "source": [
    "import fastparquet\n",
    "import feather\n",
    "\n",
    "from functools import partial as part"
   ]
  },
  {
   "cell_type": "code",
   "execution_count": null,
   "metadata": {
    "collapsed": true
   },
   "outputs": [],
   "source": [
    "def max_len(s, nulls=True):\n",
    "    if nulls:\n",
    "        s = s[s == s]\n",
    "    return s.map(len).max()\n",
    "\n",
    "def pq_writer(get_lens=False, **kw):\n",
    "    def write_pq(df, fn):\n",
    "        if get_lens:\n",
    "            lns = {c: max_len(df[c], nulls=True) for c in get_dtypes(df, object)}\n",
    "        else:\n",
    "            lns = None\n",
    "        fastparquet.write(fn, df, fixed_text=lns, **kw)\n",
    "    return write_pq\n",
    "\n",
    "def pq_reader(categories=None):\n",
    "    def read_pq(fn):\n",
    "        f = fastparquet.ParquetFile(fn)\n",
    "        return f.to_pandas(categories=categories)\n",
    "    return read_pq"
   ]
  },
  {
   "cell_type": "markdown",
   "metadata": {},
   "source": [
    "### Proto\n",
    "\n",
    "fn = '/tmp/t.parq'\n",
    "fastparquet.write(fn, d, object_encoding='infer', fixed_text={'A': 2})\n",
    "\n",
    "pf = fastparquet.ParquetFile(fn)\n",
    "\n",
    "pf.to_pandas()"
   ]
  },
  {
   "cell_type": "code",
   "execution_count": null,
   "metadata": {
    "collapsed": true
   },
   "outputs": [],
   "source": [
    "def bench(fn, df, writer, reader, desc=''):\n",
    "    twrite = Timer(start=1)\n",
    "    writer(df, fn)\n",
    "    twrite.end()\n",
    "    \n",
    "    tread = Timer(start=1)\n",
    "    rdf = reader(fn)\n",
    "    tread.end()\n",
    "    global _df, _rdf\n",
    "    _df, _rdf = df, rdf\n",
    "    assert df.shape == rdf.shape, '{} != {}'.format(df.shape, rdf.shape)\n",
    "    assert (df.dtypes == rdf.dtypes).all(), '{}\\n\\n != \\n\\n{}'.format(df.dtypes, rdf.dtypes)\n",
    "    \n",
    "    return twrite.time, tread.time, os.path.getsize(fn) / 10**6\n",
    "\n",
    "def try_bench(*a, **kw):\n",
    "    known_errors = [\n",
    "        'with dtype bytes',\n",
    "        \"'NoneType' object has no attribute 'encode'\",\n",
    "        \"'bytes' object has no attribute 'encode'\",\n",
    "    ]\n",
    "    try:\n",
    "        return bench(*a, **kw)\n",
    "    except Exception as e:\n",
    "        print(e)\n",
    "        print(a[0])\n",
    "        if any(s in str(e) for s in known_errors):\n",
    "            na = float('nan')\n",
    "            return na, na, na\n",
    "        else:\n",
    "            raise(e)\n"
   ]
  },
  {
   "cell_type": "code",
   "execution_count": null,
   "metadata": {
    "collapsed": true
   },
   "outputs": [],
   "source": [
    "has_nulls=False,\n",
    "              object_encoding='utf8',\n",
    "              fixed_text={'store_and_fwd_flag': 1})"
   ]
  },
  {
   "cell_type": "code",
   "execution_count": null,
   "metadata": {
    "collapsed": false
   },
   "outputs": [],
   "source": [
    "obj_col"
   ]
  },
  {
   "cell_type": "code",
   "execution_count": null,
   "metadata": {
    "collapsed": false
   },
   "outputs": [],
   "source": [
    "v"
   ]
  },
  {
   "cell_type": "code",
   "execution_count": null,
   "metadata": {
    "collapsed": false
   },
   "outputs": [],
   "source": [
    "(dfsnulls[obj_col] == dfsnulls[obj_col])"
   ]
  },
  {
   "cell_type": "code",
   "execution_count": null,
   "metadata": {
    "collapsed": false
   },
   "outputs": [],
   "source": [
    "def get_obj_type(df, as_str=True):\n",
    "    [obj_col, *_] = get_dtypes(df, object)\n",
    "    s = df[obj_col]\n",
    "    nonull_val = s[s == s].values[0]\n",
    "    if as_str:\n",
    "        return enc_dct[type(nonull_val)]\n",
    "    return type(nonull_val)\n"
   ]
  },
  {
   "cell_type": "code",
   "execution_count": null,
   "metadata": {
    "collapsed": false
   },
   "outputs": [],
   "source": []
  },
  {
   "cell_type": "code",
   "execution_count": null,
   "metadata": {
    "collapsed": false
   },
   "outputs": [],
   "source": [
    "enc_dct[get_obj_type(dfs)]"
   ]
  },
  {
   "cell_type": "code",
   "execution_count": null,
   "metadata": {
    "collapsed": false
   },
   "outputs": [],
   "source": [
    "get_obj_type(dfb)"
   ]
  },
  {
   "cell_type": "code",
   "execution_count": null,
   "metadata": {
    "collapsed": true
   },
   "outputs": [],
   "source": [
    "for v in dfsnulls[obj_col]:\n",
    "    if v != v:\n",
    "        print('!')\n",
    "        break"
   ]
  },
  {
   "cell_type": "code",
   "execution_count": null,
   "metadata": {
    "collapsed": false
   },
   "outputs": [],
   "source": [
    "def stack_results(res):\n",
    "    return pd.concat([\n",
    "        (df.assign(Enc=type)\n",
    "           .assign(Null=null))\n",
    "        for df, type, null in res\n",
    "    ], ignore_index=True)\n",
    "\n",
    "\n",
    "def run_tests(df, asdf=True, cats=None):\n",
    "    obj_tp = get_obj_type(df) if cats is None else 'infer'\n",
    "        \n",
    "    pqr = pq_reader(categories=cats)\n",
    "    csv_dtype = (None if cats is None else\n",
    "        dict(zip(cats, it.repeat('category')))\n",
    "    )\n",
    "    res = [\n",
    "        try_bench('test/t.csv', df, part(DataFrame.to_csv, index=None),\n",
    "              part(pd.read_csv, dtype=csv_dtype)) + ('Csv',),\n",
    "        try_bench('test/t.fth', df, feather.write_dataframe, feather.read_dataframe) + ('Feather',),\n",
    "        try_bench('test/t_snap.parq', df, pq_writer(compression='SNAPPY'), pqr) + ('Pq-Snappy',),\n",
    "        try_bench('test/t_snap_utf8.parq', df, pq_writer(compression='SNAPPY', object_encoding=obj_tp), pqr) + ('Pq-Snappy-enc',),\n",
    "        try_bench('test/t_snap_f.parq', df,\n",
    "                  pq_writer(get_lens=True, compression='SNAPPY'),\n",
    "                  pqr) + ('Pq-Snappy-ft',),\n",
    "        try_bench('test/t_unc.parq', df, pq_writer(compression='UNCOMPRESSED'), pqr) + ('Pq-Uncompressed',),\n",
    "        try_bench('test/t_gzip.parq', df, pq_writer(compression='GZIP'), pqr) + ('Pq-Gzip',),\n",
    "    ]\n",
    "    if asdf:\n",
    "        return todf(res)\n",
    "    else:\n",
    "        return res\n",
    "\n",
    "todf = lambda x: DataFrame(x, columns=['Write_time', 'Read_time', 'Mb', 'Fmt'])"
   ]
  },
  {
   "cell_type": "code",
   "execution_count": null,
   "metadata": {
    "collapsed": false
   },
   "outputs": [],
   "source": [
    "res"
   ]
  },
  {
   "cell_type": "code",
   "execution_count": null,
   "metadata": {
    "collapsed": false
   },
   "outputs": [],
   "source": [
    "cats = get_dtypes(dfc).tolist()\n",
    "assert cats"
   ]
  },
  {
   "cell_type": "code",
   "execution_count": null,
   "metadata": {
    "collapsed": true
   },
   "outputs": [],
   "source": []
  },
  {
   "cell_type": "code",
   "execution_count": null,
   "metadata": {
    "collapsed": false
   },
   "outputs": [],
   "source": [
    "dfs[:2\n",
    "   ]"
   ]
  },
  {
   "cell_type": "code",
   "execution_count": null,
   "metadata": {
    "collapsed": false
   },
   "outputs": [],
   "source": [
    "res = run_tests(dfs, asdf=1, cats=None)\n",
    "resnull = run_tests(dfsnulls, asdf=1, cats=None)"
   ]
  },
  {
   "cell_type": "code",
   "execution_count": null,
   "metadata": {
    "collapsed": false
   },
   "outputs": [],
   "source": [
    "resc = run_tests(dfc, asdf=1, cats=cats)\n",
    "rescnull = run_tests(dfcnulls, asdf=1, cats=cats)"
   ]
  },
  {
   "cell_type": "code",
   "execution_count": null,
   "metadata": {
    "collapsed": false
   },
   "outputs": [],
   "source": [
    "resb = run_tests(dfb, asdf=1, cats=None)\n",
    "resbnull = run_tests(dfbnulls, asdf=1, cats=None)"
   ]
  },
  {
   "cell_type": "code",
   "execution_count": null,
   "metadata": {
    "collapsed": false
   },
   "outputs": [],
   "source": [
    "allres = stack_results([\n",
    "    (res, 'Str', 'False'),\n",
    "    (resnull, 'Str', 'True'),\n",
    "    (resc, 'Cat', 'False'),\n",
    "    (rescnull, 'Cat', 'True'),\n",
    "    (resb, 'Byte', 'False'),\n",
    "    (resbnull, 'Byte', 'True'),\n",
    "])"
   ]
  },
  {
   "cell_type": "markdown",
   "metadata": {},
   "source": [
    "## Plot"
   ]
  },
  {
   "cell_type": "code",
   "execution_count": null,
   "metadata": {
    "collapsed": false
   },
   "outputs": [],
   "source": [
    "def label_df(df, x, y, txt, ax):\n",
    "    for i, point in df.iterrows():\n",
    "        ax.text(point[x], point[y], str(point[txt]))\n",
    "\n",
    "def plot_scatter(df, x=None, y=None, lab=None, ax=None, size=None):\n",
    "    df.plot.scatter(x=x, y=y, ax=ax, s=size)\n",
    "    label_df(df, x, y, lab, ax or plt.gca())"
   ]
  },
  {
   "cell_type": "code",
   "execution_count": null,
   "metadata": {
    "collapsed": false
   },
   "outputs": [],
   "source": [
    "def scatter_df(df, x=None, y=None, s=None):\n",
    "    p = plt.scatter(df[x], df[y], s=df[s] * 2)\n",
    "    plt.xlabel(x)\n",
    "    plt.ylabel(y)"
   ]
  },
  {
   "cell_type": "code",
   "execution_count": null,
   "metadata": {
    "collapsed": true
   },
   "outputs": [],
   "source": [
    "def plot_times_size(res):\n",
    "    _, [ax1, ax2] = plt.subplots(1, 2, figsize=(10, 5))\n",
    "    plot_scatter(res, x='Read_time', y='Write_time', lab='Fmt', ax=ax1, size='Mb')\n",
    "    plot_scatter(res, x='Read_time', y='Mb', lab='Fmt', ax=ax2)"
   ]
  },
  {
   "cell_type": "code",
   "execution_count": null,
   "metadata": {
    "collapsed": true
   },
   "outputs": [],
   "source": []
  },
  {
   "cell_type": "code",
   "execution_count": null,
   "metadata": {
    "collapsed": true
   },
   "outputs": [],
   "source": [
    "plot_times_size(res)"
   ]
  },
  {
   "cell_type": "code",
   "execution_count": null,
   "metadata": {
    "collapsed": true
   },
   "outputs": [],
   "source": [
    "plot_times_size(resnull)"
   ]
  },
  {
   "cell_type": "code",
   "execution_count": null,
   "metadata": {
    "collapsed": true
   },
   "outputs": [],
   "source": [
    "plot_times_size(res)"
   ]
  },
  {
   "cell_type": "code",
   "execution_count": null,
   "metadata": {
    "collapsed": true
   },
   "outputs": [],
   "source": [
    "NUDGE = .035\n",
    "\n",
    "def s2df(ss):\n",
    "    return DataFrame(OrderedDict([(s.name, s) for s in ss]))\n",
    "\n",
    "def label(x, y, txt):\n",
    "    x, y, txt = df = s2df([x, y, txt])\n",
    "    ax = plt.gca()\n",
    "    for i, row in df.iterrows():\n",
    "        ax.text(row[x] + NUDGE, row[y] + NUDGE, str(row[txt]))\n",
    "        \n",
    "def scatter(x=None, y=None, s=None):\n",
    "    p = plt.scatter(x, y, s=s * 2)\n",
    "    plt.xlabel(x)\n",
    "    plt.ylabel(y)\n",
    "    # plt.legend()\n",
    "    \n",
    "def plot_scatter2(x, y, size, lab=None, ax=None, color=None):\n",
    "    scatter(x=x, y=y, s=size)\n",
    "    # scatter_df(res, x=x, y=y, size=s)\n",
    "    label(x, y, lab)"
   ]
  },
  {
   "cell_type": "code",
   "execution_count": null,
   "metadata": {
    "collapsed": true
   },
   "outputs": [],
   "source": [
    "def outlier_val(s, nsd=2.5):\n",
    "    s = s.dropna()\n",
    "    m = s.mean()\n",
    "    sd = s.std()\n",
    "    return m + nsd * sd\n"
   ]
  },
  {
   "cell_type": "code",
   "execution_count": null,
   "metadata": {
    "collapsed": true
   },
   "outputs": [],
   "source": [
    "def trim_outliers(df, cs=[], nsd=2.5):\n",
    "    for c in cs:\n",
    "        s = df[c]\n",
    "        v = outlier_val(s, nsd=nsd)\n",
    "        df = df[s <= v]\n",
    "    return df"
   ]
  },
  {
   "cell_type": "code",
   "execution_count": null,
   "metadata": {
    "collapsed": false
   },
   "outputs": [],
   "source": [
    "s = allres.Write_time.dropna()"
   ]
  },
  {
   "cell_type": "code",
   "execution_count": null,
   "metadata": {
    "collapsed": true
   },
   "outputs": [],
   "source": [
    "import numpy as np"
   ]
  },
  {
   "cell_type": "code",
   "execution_count": null,
   "metadata": {
    "collapsed": false
   },
   "outputs": [],
   "source": []
  },
  {
   "cell_type": "code",
   "execution_count": null,
   "metadata": {
    "collapsed": false
   },
   "outputs": [],
   "source": []
  },
  {
   "cell_type": "code",
   "execution_count": null,
   "metadata": {
    "collapsed": false
   },
   "outputs": [],
   "source": [
    "np.percentile(s, 90)"
   ]
  },
  {
   "cell_type": "code",
   "execution_count": null,
   "metadata": {
    "collapsed": false
   },
   "outputs": [],
   "source": [
    "allres.ix[np.setdiff1d(allres.index, _allres.index)].sort_values(['Fmt'], ascending=True)"
   ]
  },
  {
   "cell_type": "code",
   "execution_count": null,
   "metadata": {
    "collapsed": false
   },
   "outputs": [],
   "source": [
    "# _allres = trim_outliers(allres, cs=['Write_time', 'Read_time'])\n",
    "_allres = allres.dropna(axis=0)\n",
    "g = sns.FacetGrid(_allres, row='Enc', col='Null', aspect=1.2, size=4)\n",
    "# g.map(plot_scatter2, 'Read_time', 'Write_time', 'Mb', 'Fmt')\n",
    "g.map(plot_scatter2, 'Write_time', 'Read_time', 'Mb', 'Fmt')"
   ]
  },
  {
   "cell_type": "code",
   "execution_count": null,
   "metadata": {
    "collapsed": false
   },
   "outputs": [],
   "source": [
    "g = sns.FacetGrid(allres.assign(One=10), row='Enc', col='Null', aspect=1.2, size=4)\n",
    "# g.map(plot_scatter2, 'Read_time', 'Write_time', 'Mb', 'Fmt')\n",
    "g.map(plot_scatter2, 'Mb', 'Read_time', 'One', 'Fmt')"
   ]
  },
  {
   "cell_type": "code",
   "execution_count": null,
   "metadata": {
    "collapsed": false
   },
   "outputs": [],
   "source": []
  },
  {
   "cell_type": "code",
   "execution_count": null,
   "metadata": {
    "collapsed": false
   },
   "outputs": [],
   "source": [
    "allres[:2]"
   ]
  },
  {
   "cell_type": "code",
   "execution_count": null,
   "metadata": {
    "collapsed": true
   },
   "outputs": [],
   "source": []
  },
  {
   "cell_type": "code",
   "execution_count": null,
   "metadata": {
    "collapsed": false
   },
   "outputs": [],
   "source": [
    "pq_writer(compression='SNAPPY')(dfs, '/tmp/x.parq')"
   ]
  },
  {
   "cell_type": "code",
   "execution_count": null,
   "metadata": {
    "collapsed": true
   },
   "outputs": [],
   "source": [
    "f = fastparquet.ParquetFile('/tmp/x.parq')"
   ]
  },
  {
   "cell_type": "code",
   "execution_count": null,
   "metadata": {
    "collapsed": true
   },
   "outputs": [],
   "source": [
    "f.to_pandas(categories=categories)"
   ]
  },
  {
   "cell_type": "code",
   "execution_count": null,
   "metadata": {
    "collapsed": false
   },
   "outputs": [],
   "source": [
    "f"
   ]
  },
  {
   "cell_type": "code",
   "execution_count": null,
   "metadata": {
    "collapsed": true
   },
   "outputs": [],
   "source": []
  },
  {
   "cell_type": "code",
   "execution_count": null,
   "metadata": {
    "collapsed": true
   },
   "outputs": [],
   "source": [
    "t = Timer(start=1)"
   ]
  },
  {
   "cell_type": "code",
   "execution_count": null,
   "metadata": {
    "collapsed": false
   },
   "outputs": [],
   "source": [
    "t.end()"
   ]
  },
  {
   "cell_type": "code",
   "execution_count": null,
   "metadata": {
    "collapsed": true
   },
   "outputs": [],
   "source": [
    "%mkdir test"
   ]
  },
  {
   "cell_type": "code",
   "execution_count": null,
   "metadata": {
    "collapsed": false
   },
   "outputs": [],
   "source": [
    "dforig[:2]"
   ]
  }
 ],
 "metadata": {
  "anaconda-cloud": {},
  "kernelspec": {
   "display_name": "Python [default]",
   "language": "python",
   "name": "python3"
  },
  "language_info": {
   "codemirror_mode": {
    "name": "ipython",
    "version": 3
   },
   "file_extension": ".py",
   "mimetype": "text/x-python",
   "name": "python",
   "nbconvert_exporter": "python",
   "pygments_lexer": "ipython3",
   "version": "3.5.2"
  }
 },
 "nbformat": 4,
 "nbformat_minor": 2
}
